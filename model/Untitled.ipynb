{
 "cells": [
  {
   "cell_type": "code",
   "execution_count": 2,
   "metadata": {},
   "outputs": [],
   "source": [
    "import pickle\n",
    "\n",
    "pop_dct=pickle.load(open('pop_dct','rb'))\n",
    "population_dct=pickle.load(open('population_dct','rb'))\n",
    "dct_density=pickle.load(open('density_dct','rb'))"
   ]
  },
  {
   "cell_type": "code",
   "execution_count": 5,
   "metadata": {},
   "outputs": [
    {
     "data": {
      "text/plain": [
       "{'Film & Video': 13551,\n",
       " 'Games': 1738,\n",
       " 'Fashion': 1136,\n",
       " 'Music': 10913,\n",
       " 'Art': 3992,\n",
       " 'Technology': 811,\n",
       " 'Dance': 761,\n",
       " 'Publishing': 4770,\n",
       " 'Theater': 2492,\n",
       " 'Comics': 1072,\n",
       " 'Design': 1768,\n",
       " 'Photography': 1514,\n",
       " 'Food': 1439}"
      ]
     },
     "execution_count": 5,
     "metadata": {},
     "output_type": "execute_result"
    }
   ],
   "source": [
    "pop_dct"
   ]
  },
  {
   "cell_type": "code",
   "execution_count": null,
   "metadata": {},
   "outputs": [],
   "source": []
  }
 ],
 "metadata": {
  "kernelspec": {
   "display_name": "Python 3",
   "language": "python",
   "name": "python3"
  },
  "language_info": {
   "codemirror_mode": {
    "name": "ipython",
    "version": 3
   },
   "file_extension": ".py",
   "mimetype": "text/x-python",
   "name": "python",
   "nbconvert_exporter": "python",
   "pygments_lexer": "ipython3",
   "version": "3.6.6"
  }
 },
 "nbformat": 4,
 "nbformat_minor": 2
}
